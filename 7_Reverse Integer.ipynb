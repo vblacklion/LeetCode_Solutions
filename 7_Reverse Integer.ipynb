{
 "cells": [
  {
   "cell_type": "code",
   "execution_count": 3,
   "metadata": {},
   "outputs": [],
   "source": [
    "def reverse(x):\n",
    "    if x == 0 or x not in range(-2**31, 2**31-1):\n",
    "        return 0\n",
    "    \n",
    "    elif str(x)[0] == \"-\":\n",
    "        new_x = int(\"-\" + str(x)[:0:-1].lstrip(\"0\"))\n",
    "        if new_x not in range(-2**31, 2**31-1):\n",
    "            return 0\n",
    "        else:\n",
    "            return new_x\n",
    "    \n",
    "    else:\n",
    "        new_x = int(str(x)[::-1].lstrip(\"0\"))\n",
    "        if new_x not in range(-2**31, 2**31-1):\n",
    "            return 0\n",
    "        else:\n",
    "            return new_x"
   ]
  },
  {
   "cell_type": "code",
   "execution_count": 4,
   "metadata": {},
   "outputs": [
    {
     "data": {
      "text/plain": [
       "0"
      ]
     },
     "execution_count": 4,
     "metadata": {},
     "output_type": "execute_result"
    }
   ],
   "source": [
    "reverse(1534236469)"
   ]
  },
  {
   "cell_type": "code",
   "execution_count": 5,
   "metadata": {},
   "outputs": [
    {
     "data": {
      "text/plain": [
       "-321"
      ]
     },
     "execution_count": 5,
     "metadata": {},
     "output_type": "execute_result"
    }
   ],
   "source": [
    "reverse(-123000)"
   ]
  },
  {
   "cell_type": "code",
   "execution_count": null,
   "metadata": {},
   "outputs": [],
   "source": []
  }
 ],
 "metadata": {
  "kernelspec": {
   "display_name": "Python 3",
   "language": "python",
   "name": "python3"
  },
  "language_info": {
   "codemirror_mode": {
    "name": "ipython",
    "version": 3
   },
   "file_extension": ".py",
   "mimetype": "text/x-python",
   "name": "python",
   "nbconvert_exporter": "python",
   "pygments_lexer": "ipython3",
   "version": "3.8.2"
  }
 },
 "nbformat": 4,
 "nbformat_minor": 4
}
