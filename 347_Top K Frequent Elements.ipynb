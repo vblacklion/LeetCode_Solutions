{
 "cells": [
  {
   "cell_type": "markdown",
   "metadata": {},
   "source": [
    "Given a non-empty array of integers, return the k most frequent elements.\n",
    "\n",
    "Example :\n",
    "\n",
    "Input: nums = [1,1,1,2,2,3], k = 2\n",
    "Output: [1,2]"
   ]
  },
  {
   "cell_type": "code",
   "execution_count": 1,
   "metadata": {},
   "outputs": [
    {
     "name": "stdout",
     "output_type": "stream",
     "text": [
      "Counter({1: 3, 2: 2, 3: 1})\n"
     ]
    }
   ],
   "source": [
    "from collections import Counter\n",
    "nums = [1,1,1,2,2,3]\n",
    "d_nums = Counter(nums)\n",
    "print(d_nums)"
   ]
  },
  {
   "cell_type": "code",
   "execution_count": 3,
   "metadata": {},
   "outputs": [
    {
     "name": "stdout",
     "output_type": "stream",
     "text": [
      "[1, 2, 3] [3, 2, 1]\n"
     ]
    }
   ],
   "source": [
    "k = list(d_nums.keys())\n",
    "v = list(d_nums.values())\n",
    "print(k,v)\n",
    "result = k[v.index(max(v))]"
   ]
  },
  {
   "cell_type": "code",
   "execution_count": 4,
   "metadata": {},
   "outputs": [],
   "source": [
    "def f1():\n",
    "    v=list(d_nums.values())\n",
    "    k=list(d_nums.keys())\n",
    "    return k[v.index(max(v))]"
   ]
  },
  {
   "cell_type": "code",
   "execution_count": 5,
   "metadata": {},
   "outputs": [
    {
     "name": "stdout",
     "output_type": "stream",
     "text": [
      "[1, 2]\n"
     ]
    }
   ],
   "source": [
    "result = []\n",
    "nums = [1,1,1,2,2,3]\n",
    "def topKfrequent(nums, r):\n",
    "    dic_nums = Counter(nums)\n",
    "    for i in range(r):\n",
    "        v=list(d_nums.values())\n",
    "        k=list(d_nums.keys())\n",
    "        bk=k[v.index(max(v))]\n",
    "        result.append(bk)\n",
    "        del d_nums[bk]\n",
    "topKfrequent(nums,2)\n",
    "print(result)"
   ]
  },
  {
   "cell_type": "code",
   "execution_count": 6,
   "metadata": {},
   "outputs": [],
   "source": [
    "from collections import Counter\n",
    "class Solution(object):\n",
    "    def topKFrequent(self, nums, k):\n",
    "        \"\"\"\n",
    "        :type nums: List[int]\n",
    "        :type k: int\n",
    "        :rtype: List[int]\n",
    "        \"\"\"\n",
    "        \n",
    "        result = []\n",
    "        dic_nums = Counter(nums)\n",
    "        for i in range(k):\n",
    "            val=list(dic_nums.values())\n",
    "            key=list(dic_nums.keys())\n",
    "            r=key[val.index(max(val))]\n",
    "            result.append(r)\n",
    "            del dic_nums[r]\n",
    "        return result"
   ]
  },
  {
   "cell_type": "code",
   "execution_count": null,
   "metadata": {},
   "outputs": [],
   "source": []
  }
 ],
 "metadata": {
  "kernelspec": {
   "display_name": "Python 3",
   "language": "python",
   "name": "python3"
  },
  "language_info": {
   "codemirror_mode": {
    "name": "ipython",
    "version": 3
   },
   "file_extension": ".py",
   "mimetype": "text/x-python",
   "name": "python",
   "nbconvert_exporter": "python",
   "pygments_lexer": "ipython3",
   "version": "3.7.0"
  }
 },
 "nbformat": 4,
 "nbformat_minor": 2
}
