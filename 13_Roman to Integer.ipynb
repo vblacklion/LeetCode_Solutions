{
 "cells": [
  {
   "cell_type": "markdown",
   "metadata": {},
   "source": [
    "Roman numerals are represented by seven different symbols: I, V, X, L, C, D and M.\n",
    "\n",
    "Symbol       Value\n",
    "I             1\n",
    "V             5\n",
    "X             10\n",
    "L             50\n",
    "C             100\n",
    "D             500\n",
    "M             1000\n",
    "For example, two is written as II in Roman numeral, just two one's added together. Twelve is written as, XII, which is simply X + II. The number twenty seven is written as XXVII, which is XX + V + II.\n",
    "\n",
    "Roman numerals are usually written largest to smallest from left to right. However, the numeral for four is not IIII. Instead, the number four is written as IV. Because the one is before the five we subtract it making four. The same principle applies to the number nine, which is written as IX. There are six instances where subtraction is used:\n",
    "\n",
    "I can be placed before V (5) and X (10) to make 4 and 9. \n",
    "X can be placed before L (50) and C (100) to make 40 and 90. \n",
    "C can be placed before D (500) and M (1000) to make 400 and 900.\n",
    "Given a roman numeral, convert it to an integer. Input is guaranteed to be within the range from 1 to 3999.\n",
    "\n",
    "Example 1:\n",
    "\n",
    "Input: \"III\"\n",
    "Output: 3\n",
    "\n",
    "Example 2:\n",
    "\n",
    "Input: \"IV\"\n",
    "Output: 4\n",
    "\n",
    "Example 3:\n",
    "\n",
    "Input: \"IX\"\n",
    "Output: 9\n",
    "\n",
    "Example 4:\n",
    "\n",
    "Input: \"LVIII\"\n",
    "Output: 58\n",
    "Explanation: L = 50, V= 5, III = 3.\n",
    "\n",
    "Example 5:\n",
    "\n",
    "Input: \"MCMXCIV\"\n",
    "Output: 1994\n",
    "Explanation: M = 1000, CM = 900, XC = 90 and IV = 4."
   ]
  },
  {
   "cell_type": "code",
   "execution_count": null,
   "metadata": {},
   "outputs": [],
   "source": [
    "#3999 = MMMCMXCIX,  \"MCDLXXVI\""
   ]
  },
  {
   "cell_type": "code",
   "execution_count": 2,
   "metadata": {},
   "outputs": [],
   "source": [
    "Roman_dict = {\"I\" : 1 , \"V\": 5, \"X\" : 10, \"L\" : 50, \"C\" : 100, \"D\" : 500, \"M\" : 1000,\n",
    "              \"IV\" : 4, \"IX\": 9, \"XL\" : 40,  \"XC\" : 90, \"CD\" : 400, \"CM\" : 900}"
   ]
  },
  {
   "cell_type": "code",
   "execution_count": 9,
   "metadata": {},
   "outputs": [
    {
     "name": "stdout",
     "output_type": "stream",
     "text": [
      "621\n"
     ]
    }
   ],
   "source": [
    "s = \"DCXXI\"\n",
    "result = 0\n",
    "idx = 0\n",
    "s_list =list(r for r in s)\n",
    "while idx < len(s):\n",
    "    if idx < (len(s)-1) and (s[idx] == \"I\" or s[idx] == \"X\" or s[idx] == \"C\"):\n",
    "        if s[idx] == \"I\" and s[idx+1] == \"V\":\n",
    "            result = result + Roman_dict[\"IV\"]\n",
    "            idx += 2 \n",
    "        elif s[idx] == \"I\" and s[idx+1] == \"X\":\n",
    "            result = result + Roman_dict[\"IX\"]\n",
    "            idx += 2\n",
    "        elif s[idx] == \"X\" and s[idx+1] == \"L\":\n",
    "            result = result + Roman_dict[\"XL\"]\n",
    "            idx += 2\n",
    "        elif s[idx] == \"X\" and s[idx+1] == \"C\":\n",
    "            result = result + Roman_dict[\"XC\"]\n",
    "            idx += 2\n",
    "        elif s[idx] == \"C\" and s[idx+1] == \"D\":\n",
    "            result = result + Roman_dict[\"CD\"]\n",
    "            idx += 2\n",
    "        elif s[idx] == \"C\" and s[idx+1] == \"M\":\n",
    "            result = result + Roman_dict[\"CM\"]\n",
    "            idx += 2\n",
    "        else:\n",
    "            if s[idx] == \"I\":\n",
    "                result = result + Roman_dict[\"I\"]\n",
    "                idx += 1\n",
    "            elif s[idx] == \"X\":\n",
    "                result = result + Roman_dict[\"X\"]\n",
    "                idx += 1\n",
    "            else:\n",
    "                result = result + Roman_dict[\"C\"]\n",
    "                idx += 1\n",
    "    elif s[idx] == \"V\":\n",
    "        result = result + Roman_dict[\"V\"]\n",
    "        idx +=1\n",
    "    elif s[idx] == \"L\":\n",
    "        result = result + Roman_dict[\"L\"]\n",
    "        idx +=1\n",
    "    elif s[idx] == \"D\":\n",
    "        result = result + Roman_dict[\"D\"]\n",
    "        idx +=1\n",
    "    elif s[idx] == \"M\":\n",
    "        result = result + Roman_dict[\"M\"]\n",
    "        idx +=1\n",
    "    elif s[idx] == \"I\":\n",
    "        result = result + Roman_dict[\"I\"]\n",
    "        idx += 1\n",
    "    elif s[idx] == \"X\":\n",
    "        result = result + Roman_dict[\"X\"]\n",
    "        idx += 1\n",
    "    else:\n",
    "        result = result + Roman_dict[\"C\"]\n",
    "        idx += 1\n",
    "                 \n",
    "print(result)\n",
    "\n"
   ]
  }
 ],
 "metadata": {
  "kernelspec": {
   "display_name": "Python 3",
   "language": "python",
   "name": "python3"
  },
  "language_info": {
   "codemirror_mode": {
    "name": "ipython",
    "version": 3
   },
   "file_extension": ".py",
   "mimetype": "text/x-python",
   "name": "python",
   "nbconvert_exporter": "python",
   "pygments_lexer": "ipython3",
   "version": "3.7.0"
  }
 },
 "nbformat": 4,
 "nbformat_minor": 2
}
