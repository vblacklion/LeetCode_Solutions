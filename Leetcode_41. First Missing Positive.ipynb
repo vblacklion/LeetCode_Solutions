{
 "cells": [
  {
   "cell_type": "code",
   "execution_count": null,
   "metadata": {},
   "outputs": [],
   "source": [
    "int_list = [1, -2, 7, 8, 9, 2, 3, 5, 11, 12, 0]\n",
    "positive_list = list(filter(lambda x: x >0, int_list))\n",
    "max_int = max(positive_list)\n",
    "result_list = []\n",
    "for num in range(1, max_int):\n",
    "    if num not in positive_list:\n",
    "        result_list.append(num)\n",
    "        \n",
    "print(\"The answer is: \", min(result_list))"
   ]
  }
 ],
 "metadata": {
  "kernelspec": {
   "display_name": "Python 3",
   "language": "python",
   "name": "python3"
  },
  "language_info": {
   "codemirror_mode": {
    "name": "ipython",
    "version": 3
   },
   "file_extension": ".py",
   "mimetype": "text/x-python",
   "name": "python",
   "nbconvert_exporter": "python",
   "pygments_lexer": "ipython3",
   "version": "3.7.0"
  }
 },
 "nbformat": 4,
 "nbformat_minor": 2
}
