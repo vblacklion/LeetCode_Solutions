{
 "cells": [
  {
   "cell_type": "code",
   "execution_count": 1,
   "metadata": {},
   "outputs": [
    {
     "name": "stdout",
     "output_type": "stream",
     "text": [
      "[5, 3, 1, 2, 0, 0, 0]\n"
     ]
    }
   ],
   "source": [
    "ipt_list = [7, 4, 1, 5, 0, 3, 8]\n",
    "result = []\n",
    "idx = 0\n",
    "for idx, num in enumerate(ipt_list):\n",
    "    counter = 0\n",
    "    for i in ipt_list[idx:]:\n",
    "        if num > i:\n",
    "            counter += 1\n",
    "    \n",
    "    result.append(counter)\n",
    "print(result)"
   ]
  },
  {
   "cell_type": "code",
   "execution_count": null,
   "metadata": {},
   "outputs": [],
   "source": []
  }
 ],
 "metadata": {
  "kernelspec": {
   "display_name": "Python 3",
   "language": "python",
   "name": "python3"
  },
  "language_info": {
   "codemirror_mode": {
    "name": "ipython",
    "version": 3
   },
   "file_extension": ".py",
   "mimetype": "text/x-python",
   "name": "python",
   "nbconvert_exporter": "python",
   "pygments_lexer": "ipython3",
   "version": "3.7.0"
  }
 },
 "nbformat": 4,
 "nbformat_minor": 2
}
