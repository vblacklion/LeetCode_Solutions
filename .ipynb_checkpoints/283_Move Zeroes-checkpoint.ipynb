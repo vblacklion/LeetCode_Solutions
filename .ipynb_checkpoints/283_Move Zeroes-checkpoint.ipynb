{
 "cells": [
  {
   "cell_type": "code",
   "execution_count": null,
   "metadata": {},
   "outputs": [],
   "source": [
    "#Input: [0,1,0,3,12]\n",
    "#Output: [1,3,12,0,0]"
   ]
  },
  {
   "cell_type": "code",
   "execution_count": 6,
   "metadata": {},
   "outputs": [
    {
     "name": "stdout",
     "output_type": "stream",
     "text": [
      "[3, 12, 5, 0, 0, 0]\n"
     ]
    }
   ],
   "source": [
    "nums = [0,0,3,12,0,5]\n",
    "counter = len(nums)\n",
    "idx = 0\n",
    "while counter != 0:\n",
    "    \n",
    "    if nums[idx] == 0:\n",
    "        y = nums.pop(idx)\n",
    "        nums.insert(len(nums), y)\n",
    "    else:\n",
    "        idx += 1\n",
    "    counter -=1\n",
    "    \n",
    "    \n",
    "    \n",
    "      \n",
    "print(nums)"
   ]
  },
  {
   "cell_type": "code",
   "execution_count": null,
   "metadata": {},
   "outputs": [],
   "source": []
  }
 ],
 "metadata": {
  "kernelspec": {
   "display_name": "Python 3",
   "language": "python",
   "name": "python3"
  },
  "language_info": {
   "codemirror_mode": {
    "name": "ipython",
    "version": 3
   },
   "file_extension": ".py",
   "mimetype": "text/x-python",
   "name": "python",
   "nbconvert_exporter": "python",
   "pygments_lexer": "ipython3",
   "version": "3.7.0"
  }
 },
 "nbformat": 4,
 "nbformat_minor": 2
}
