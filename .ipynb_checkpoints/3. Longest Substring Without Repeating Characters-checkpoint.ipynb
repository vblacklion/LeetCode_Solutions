{
 "cells": [
  {
   "cell_type": "markdown",
   "metadata": {},
   "source": [
    "Input: \"abcabcbb\"\n",
    "Output: 3 \n",
    "Explanation: The answer is \"abc\", with the length of 3. "
   ]
  },
  {
   "cell_type": "code",
   "execution_count": 1,
   "metadata": {},
   "outputs": [],
   "source": [
    "x = \"abcabcbb\"\n",
    "s = \"wobgrovw\""
   ]
  },
  {
   "cell_type": "code",
   "execution_count": 2,
   "metadata": {},
   "outputs": [
    {
     "data": {
      "text/plain": [
       "['w', 'o', 'b', 'g', 'r', 'o', 'v', 'w']"
      ]
     },
     "execution_count": 2,
     "metadata": {},
     "output_type": "execute_result"
    }
   ],
   "source": [
    "y = list(s)\n",
    "y"
   ]
  },
  {
   "cell_type": "code",
   "execution_count": 4,
   "metadata": {},
   "outputs": [
    {
     "name": "stdout",
     "output_type": "stream",
     "text": [
      "5\n"
     ]
    }
   ],
   "source": [
    "y = list(s)\n",
    "\n",
    "solution = []\n",
    "result = []\n",
    "key = 0\n",
    "word = {}\n",
    "\n",
    "if len(y) == 0:\n",
    "    print(0)\n",
    "elif len(y) == 1:\n",
    "    print(1)\n",
    "elif len(y) == len(set(y)):\n",
    "    print(len(y))\n",
    "else:\n",
    "    for idx, l in enumerate(y):\n",
    "        if l in result:\n",
    "            word.update({key :result})\n",
    "            solution.append(len(result))\n",
    "            c = idx\n",
    "            if y[c-1] ==  y[c]:\n",
    "                result = [l]\n",
    "            elif result[0] == l:\n",
    "                result = result[1:] + [l]\n",
    "            else:    \n",
    "                result = [y[c-1], l]\n",
    "            key = str(int(key) + 1)\n",
    "            \n",
    "            \n",
    "        else:\n",
    "            result.append(l)\n",
    "if (c + 1) != len(y):\n",
    "    key = str(int(key) + 1)\n",
    "    word.update({key :result})       \n",
    "    solution.append(len(result))\n",
    "\n",
    "print(max(solution))"
   ]
  },
  {
   "cell_type": "code",
   "execution_count": 21,
   "metadata": {},
   "outputs": [
    {
     "name": "stdout",
     "output_type": "stream",
     "text": [
      "6\n"
     ]
    }
   ],
   "source": [
    "y = list(s)\n",
    "\n",
    "solution = []\n",
    "result = []\n",
    "key = 0\n",
    "word = {}\n",
    "if len(y) == 0:\n",
    "    print(0)\n",
    "elif len(y) == 1:\n",
    "    print(1)\n",
    "elif len(y) == len(set(y)):\n",
    "    print(len(y))\n",
    "else:\n",
    "    for idx, l in enumerate(y):\n",
    "        if l in result:\n",
    "            word.update({key :result})\n",
    "            solution.append(len(result))\n",
    "            c = result.index(l)\n",
    "            result = result[c:]\n",
    "            result.append(l)\n",
    "            result.pop(0)\n",
    "            key = str(int(key) + 1)\n",
    "            \n",
    "            \n",
    "        else:\n",
    "            result.append(l)\n",
    "if (c + 1) != len(y):\n",
    "    key = str(int(key) + 1)\n",
    "    word.update({key :result})       \n",
    "    solution.append(len(result))\n",
    "\n",
    "print(max(solution))"
   ]
  },
  {
   "cell_type": "code",
   "execution_count": 23,
   "metadata": {},
   "outputs": [
    {
     "data": {
      "text/plain": [
       "{0: ['w', 'o', 'b', 'g', 'r'], '2': ['b', 'g', 'r', 'o', 'v', 'w']}"
      ]
     },
     "execution_count": 23,
     "metadata": {},
     "output_type": "execute_result"
    }
   ],
   "source": [
    "word"
   ]
  }
 ],
 "metadata": {
  "kernelspec": {
   "display_name": "Python 3",
   "language": "python",
   "name": "python3"
  },
  "language_info": {
   "codemirror_mode": {
    "name": "ipython",
    "version": 3
   },
   "file_extension": ".py",
   "mimetype": "text/x-python",
   "name": "python",
   "nbconvert_exporter": "python",
   "pygments_lexer": "ipython3",
   "version": "3.7.3"
  },
  "toc": {
   "base_numbering": 1,
   "nav_menu": {},
   "number_sections": true,
   "sideBar": true,
   "skip_h1_title": false,
   "title_cell": "Table of Contents",
   "title_sidebar": "Contents",
   "toc_cell": false,
   "toc_position": {},
   "toc_section_display": true,
   "toc_window_display": false
  }
 },
 "nbformat": 4,
 "nbformat_minor": 2
}
