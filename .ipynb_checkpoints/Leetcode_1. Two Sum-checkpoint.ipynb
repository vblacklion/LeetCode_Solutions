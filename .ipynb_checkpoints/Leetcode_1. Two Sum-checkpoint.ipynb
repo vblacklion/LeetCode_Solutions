{
 "cells": [
  {
   "cell_type": "code",
   "execution_count": null,
   "metadata": {},
   "outputs": [],
   "source": [
    "#Given nums = [2, 7, 11, 15], target = 9,\n",
    "\n",
    "#Because nums[0] + nums[1] = 2 + 7 = 9,\n",
    "#return [0, 1]."
   ]
  },
  {
   "cell_type": "code",
   "execution_count": 15,
   "metadata": {},
   "outputs": [
    {
     "name": "stdout",
     "output_type": "stream",
     "text": [
      "[2, 3]\n"
     ]
    }
   ],
   "source": [
    "nums = [2, 7, 11, 15]\n",
    "target = 26\n",
    "\n",
    "def two_sum():\n",
    "    counter = 0\n",
    "    result = \"No two sum solution\"\n",
    "    for idx, num in enumerate(nums[:-1]):\n",
    "        counter = idx\n",
    "        for num2 in nums[(idx+1):]:\n",
    "            tsum = num + num2\n",
    "            counter += 1\n",
    "            if tsum == target:\n",
    "                result = [idx, counter]\n",
    "                break\n",
    "            #print(idx, counter)               \n",
    "    return result\n",
    "print(two_sum())"
   ]
  },
  {
   "cell_type": "code",
   "execution_count": 18,
   "metadata": {},
   "outputs": [
    {
     "name": "stdout",
     "output_type": "stream",
     "text": [
      "[2, 3]\n"
     ]
    }
   ],
   "source": [
    "nums = [2, 7, 11, 15]\n",
    "target = 26\n",
    "\n",
    "def two_sum():\n",
    "    counter = 0\n",
    "    result = \"No two sum solution\"\n",
    "    for idx, num in enumerate(nums[:-1]):\n",
    "        counter = idx\n",
    "        for num2 in nums[(idx+1):]:\n",
    "            counter += 1\n",
    "            if target - num2 == num:\n",
    "                result = [idx, counter]\n",
    "                break\n",
    "         \n",
    "    return result\n",
    "print(two_sum())"
   ]
  },
  {
   "cell_type": "markdown",
   "metadata": {},
   "source": [
    "The second one is faster..."
   ]
  }
 ],
 "metadata": {
  "kernelspec": {
   "display_name": "Python 3",
   "language": "python",
   "name": "python3"
  },
  "language_info": {
   "codemirror_mode": {
    "name": "ipython",
    "version": 3
   },
   "file_extension": ".py",
   "mimetype": "text/x-python",
   "name": "python",
   "nbconvert_exporter": "python",
   "pygments_lexer": "ipython3",
   "version": "3.7.0"
  }
 },
 "nbformat": 4,
 "nbformat_minor": 2
}
