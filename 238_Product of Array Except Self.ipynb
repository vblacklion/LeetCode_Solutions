{
 "cells": [
  {
   "cell_type": "markdown",
   "metadata": {},
   "source": [
    "Given an array nums of n integers where n > 1,  return an array output such that output[i] is equal to the product of all the elements of nums except nums[i].\n",
    "\n",
    "Example:\n",
    "\n",
    "Input:  [1,2,3,4]\n",
    "Output: [24,12,8,6]"
   ]
  },
  {
   "cell_type": "code",
   "execution_count": 2,
   "metadata": {},
   "outputs": [
    {
     "name": "stdout",
     "output_type": "stream",
     "text": [
      "[2, 3, 4]\n",
      "[1, 3, 4]\n",
      "[1, 2, 4]\n",
      "[1, 2, 3]\n",
      "[24, 12, 8, 6]\n"
     ]
    }
   ],
   "source": [
    "nums = [1,2,3,4]\n",
    "\n",
    "result = []\n",
    "\n",
    "for idx, num in enumerate(nums):\n",
    "    holder = nums.pop(idx)\n",
    "    nums2 = nums[:]\n",
    "    product = 1\n",
    "    for num2 in nums2:\n",
    "        product = product * num2\n",
    "    result.append(product)\n",
    "    nums.insert(idx, holder)\n",
    "print( result)    "
   ]
  },
  {
   "cell_type": "code",
   "execution_count": 57,
   "metadata": {},
   "outputs": [
    {
     "name": "stdout",
     "output_type": "stream",
     "text": [
      "[24, 12, 8, 6]\n"
     ]
    }
   ],
   "source": [
    "nums =  [1,2,3,4]\n",
    "result = []\n",
    "\n",
    "for idx, num1 in enumerate(nums):\n",
    "    product = 1\n",
    "    i = 0\n",
    "    while i < len(nums):\n",
    "        #print(\"while\", i, idx)\n",
    "        if i == idx:\n",
    "            i += 1\n",
    "            #print(\"if\", i, idx)\n",
    "            continue\n",
    "        elif nums[i] == 0:\n",
    "            product = 0\n",
    "            i += 1\n",
    "            break\n",
    "            #print(\"elif\", i, idx)\n",
    "        else:\n",
    "            product = product * nums[i]\n",
    "            i += 1\n",
    "            #print(\"else\", i, idx, \"product:\", product)\n",
    "    result.append(product)\n",
    "    #print(\"off\", i, idx, result)\n",
    "\n",
    "print(result)"
   ]
  },
  {
   "cell_type": "code",
   "execution_count": 60,
   "metadata": {},
   "outputs": [
    {
     "name": "stdout",
     "output_type": "stream",
     "text": [
      "[0, 0]\n"
     ]
    }
   ],
   "source": [
    "nums =  [0,0]\n",
    "result = []\n",
    "\n",
    "for i in range(len(nums)):\n",
    "    product = 1\n",
    "    keep = nums.pop(i)\n",
    "    for k in range(len(nums)):\n",
    "        \n",
    "        product = product * nums[k]\n",
    "    result.append(product)\n",
    "    nums.insert(i, keep)\n",
    "        \n",
    "print(result)        \n",
    "        \n",
    "        "
   ]
  },
  {
   "cell_type": "code",
   "execution_count": null,
   "metadata": {},
   "outputs": [],
   "source": []
  }
 ],
 "metadata": {
  "kernelspec": {
   "display_name": "Python 3",
   "language": "python",
   "name": "python3"
  },
  "language_info": {
   "codemirror_mode": {
    "name": "ipython",
    "version": 3
   },
   "file_extension": ".py",
   "mimetype": "text/x-python",
   "name": "python",
   "nbconvert_exporter": "python",
   "pygments_lexer": "ipython3",
   "version": "3.7.0"
  }
 },
 "nbformat": 4,
 "nbformat_minor": 2
}
