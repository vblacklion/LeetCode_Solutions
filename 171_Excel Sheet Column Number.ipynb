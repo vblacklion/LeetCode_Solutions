{
 "cells": [
  {
   "cell_type": "markdown",
   "metadata": {},
   "source": [
    "Given a column title as appear in an Excel sheet, return its corresponding column number.\n",
    "\n",
    "For example:\n",
    "\n",
    "    A -> 1,  B -> 2, C -> 3\n",
    "    ...\n",
    "    Z -> 26\n",
    "    AA -> 27\n",
    "    AB -> 28 \n",
    "    ...\n",
    "Example 1:      Example 2:       Example 3:\n",
    "            \n",
    "Input: \"A\"      Input: \"AB\"      Input: \"ZY\"\n",
    "Output: 1       Output: 28       Output: 701  AAA, AAB"
   ]
  },
  {
   "cell_type": "code",
   "execution_count": 12,
   "metadata": {},
   "outputs": [
    {
     "data": {
      "text/plain": [
       "'ABCDEFGHIJKLMNOPQRSTUVWXYZ'"
      ]
     },
     "execution_count": 12,
     "metadata": {},
     "output_type": "execute_result"
    }
   ],
   "source": [
    "import string\n",
    "s = \"HOP\"\n",
    "LT = string.ascii_uppercase\n",
    "LT"
   ]
  },
  {
   "cell_type": "code",
   "execution_count": 13,
   "metadata": {},
   "outputs": [
    {
     "name": "stdout",
     "output_type": "stream",
     "text": [
      "5814\n"
     ]
    }
   ],
   "source": [
    "xls_list_raw = []\n",
    "for i in LT:\n",
    "    xls_list_raw.append(i)\n",
    "    if i == s:\n",
    "        print(xls_list_raw.index(i)+1)\n",
    "        break\n",
    "xls_list_final = xls_list_raw[:]\n",
    "condition = True\n",
    "begin = 0\n",
    "ende = len(xls_list_final)\n",
    "while condition == True:\n",
    "    \n",
    "    for c in LT:\n",
    "        for d in xls_list_raw[begin:ende]:\n",
    "            z = c + d\n",
    "            xls_list_final.append(z)\n",
    "            if z == s:\n",
    "                print(xls_list_final.index(z)+1)\n",
    "                condition=False\n",
    "    begin = len(xls_list_raw)\n",
    "    xls_list_raw = xls_list_final[:]\n",
    "    ende = len(xls_list_raw)\n"
   ]
  },
  {
   "cell_type": "code",
   "execution_count": null,
   "metadata": {},
   "outputs": [],
   "source": []
  }
 ],
 "metadata": {
  "kernelspec": {
   "display_name": "Python 3",
   "language": "python",
   "name": "python3"
  },
  "language_info": {
   "codemirror_mode": {
    "name": "ipython",
    "version": 3
   },
   "file_extension": ".py",
   "mimetype": "text/x-python",
   "name": "python",
   "nbconvert_exporter": "python",
   "pygments_lexer": "ipython3",
   "version": "3.7.0"
  }
 },
 "nbformat": 4,
 "nbformat_minor": 2
}
