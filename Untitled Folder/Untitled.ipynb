{
 "cells": [
  {
   "cell_type": "code",
   "execution_count": null,
   "metadata": {},
   "outputs": [],
   "source": [
    "#Given nums = [2, 7, 11, 15], target = 9,\n",
    "\n",
    "#Because nums[0] + nums[1] = 2 + 7 = 9,\n",
    "#return [0, 1]."
   ]
  },
  {
   "cell_type": "code",
   "execution_count": 5,
   "metadata": {},
   "outputs": [
    {
     "name": "stdout",
     "output_type": "stream",
     "text": [
      "[0, 2]\n"
     ]
    }
   ],
   "source": [
    "nums = [2, 7, 11, 15]\n",
    "target = 9\n",
    "def two_sum():\n",
    "    i = 0\n",
    "    result = \"No two sum solution\"\n",
    "    for idx, num in enumerate(nums[:-1]):\n",
    "        i = idx + 1\n",
    "        while i < len(nums):\n",
    "            tsum = num + nums[i]\n",
    "            \n",
    "            if tsum == target:\n",
    "                result = [idx, i]\n",
    "                break\n",
    "            else:\n",
    "                i += 1\n",
    "                \n",
    "    return result\n",
    "print(two_sum())"
   ]
  }
 ],
 "metadata": {
  "kernelspec": {
   "display_name": "Python 3",
   "language": "python",
   "name": "python3"
  },
  "language_info": {
   "codemirror_mode": {
    "name": "ipython",
    "version": 3
   },
   "file_extension": ".py",
   "mimetype": "text/x-python",
   "name": "python",
   "nbconvert_exporter": "python",
   "pygments_lexer": "ipython3",
   "version": "3.7.0"
  }
 },
 "nbformat": 4,
 "nbformat_minor": 2
}
