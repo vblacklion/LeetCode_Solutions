{
 "cells": [
  {
   "cell_type": "code",
   "execution_count": 2,
   "metadata": {},
   "outputs": [
    {
     "name": "stdout",
     "output_type": "stream",
     "text": [
      "15\n",
      "['1', '2', 'Fizz', '4', 'Buzz', 'Fizz', '7', '8', 'Fizz', 'Buzz', '11', 'Fizz', '13', '14', 'FizzBuzz']\n"
     ]
    }
   ],
   "source": [
    "n = int(input())\n",
    "def fizzBuzz(n):\n",
    "    number_list = []\n",
    "    for number in range (1, n+1):\n",
    "        if number % 3 == 0 and number % 5 == 0:\n",
    "            number_list.append(\"FizzBuzz\")\n",
    "\n",
    "        elif number % 3 == 0:\n",
    "            number_list.append(\"Fizz\")\n",
    "\n",
    "        elif number % 5 == 0:\n",
    "            number_list.append(\"Buzz\")\n",
    "\n",
    "        else:\n",
    "            number_list.append(str(number))\n",
    "    return number_list\n",
    "print(fizzBuzz(n))"
   ]
  },
  {
   "cell_type": "code",
   "execution_count": null,
   "metadata": {},
   "outputs": [],
   "source": []
  }
 ],
 "metadata": {
  "kernelspec": {
   "display_name": "Python 3",
   "language": "python",
   "name": "python3"
  },
  "language_info": {
   "codemirror_mode": {
    "name": "ipython",
    "version": 3
   },
   "file_extension": ".py",
   "mimetype": "text/x-python",
   "name": "python",
   "nbconvert_exporter": "python",
   "pygments_lexer": "ipython3",
   "version": "3.7.0"
  }
 },
 "nbformat": 4,
 "nbformat_minor": 2
}
